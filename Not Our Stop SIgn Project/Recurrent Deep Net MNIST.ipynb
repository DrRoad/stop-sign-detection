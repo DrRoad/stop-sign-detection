{
 "cells": [
  {
   "cell_type": "code",
   "execution_count": 7,
   "metadata": {},
   "outputs": [
    {
     "name": "stdout",
     "output_type": "stream",
     "text": [
      "Extracting /tmp/data/train-images-idx3-ubyte.gz\n",
      "Extracting /tmp/data/train-labels-idx1-ubyte.gz\n",
      "Extracting /tmp/data/t10k-images-idx3-ubyte.gz\n",
      "Extracting /tmp/data/t10k-labels-idx1-ubyte.gz\n",
      "Epoch 0 completed out of 10 loss: 226.975723382\n",
      "Epoch 1 completed out of 10 loss: 62.5504076686\n",
      "Epoch 2 completed out of 10 loss: 41.3270212375\n",
      "Epoch 3 completed out of 10 loss: 30.7257655398\n",
      "Epoch 4 completed out of 10 loss: 26.0671058577\n",
      "Epoch 5 completed out of 10 loss: 21.8314915546\n",
      "Epoch 6 completed out of 10 loss: 17.9144906839\n",
      "Epoch 7 completed out of 10 loss: 16.4774448057\n",
      "Epoch 8 completed out of 10 loss: 13.9791191828\n",
      "Epoch 9 completed out of 10 loss: 12.6073158034\n",
      "Accuracy: 0.9836\n"
     ]
    }
   ],
   "source": [
    "import tensorflow as tf\n",
    "from tensorflow.examples.tutorials.mnist import input_data\n",
    "from tensorflow.contrib import rnn\n",
    "mnist = input_data.read_data_sets(\"/tmp/data/\", one_hot=True)\n",
    "\n",
    "n_nodes_hl1 = 500\n",
    "n_nodes_hl2 = 500\n",
    "n_nodes_hl3 = 500\n",
    "\n",
    "hm_epochs = 10\n",
    "n_classes = 10\n",
    "batch_size = 128\n",
    "\n",
    "chunk_size = 28\n",
    "n_chunks = 28\n",
    "rnn_size = 128\n",
    "\n",
    "x = tf.placeholder('float',[None,n_chunks,chunk_size])\n",
    "y = tf.placeholder('float')\n",
    "\n",
    "def neural_network_model(x):\n",
    "    \n",
    "    #(input_data * weights) + bias\n",
    "    \n",
    "    layer = {'weights': tf.Variable(tf.random_normal([rnn_size,n_classes])),\n",
    "                     'biases':tf.Variable(tf.random_normal([n_classes]))}\n",
    "    x = tf.transpose(x, [1,0,2])\n",
    "    x = tf.reshape(x, [-1,chunk_size])\n",
    "    x = tf.split(x, n_chunks, 0)\n",
    "    \n",
    "    lstm_cell = rnn.BasicLSTMCell(rnn_size)\n",
    "    outputs, states = rnn.static_rnn(lstm_cell, x, dtype=tf.float32)\n",
    "    \n",
    "    output = tf.matmul(outputs[-1],layer['weights']) + layer['biases']\n",
    "    \n",
    "    return output\n",
    "\n",
    "def train_nueral_network(x):\n",
    "    prediction = neural_network_model(x)\n",
    "    cost = tf.reduce_mean(tf.nn.softmax_cross_entropy_with_logits(logits=prediction,labels=y))\n",
    "    optimizer = tf.train.AdamOptimizer().minimize(cost)\n",
    "    \n",
    "    #cycles of feed forward + backprop\n",
    "\n",
    "    \n",
    "    with tf.Session() as sess:\n",
    "        sess.run(tf.global_variables_initializer())\n",
    "        \n",
    "        for epoch in range(hm_epochs):\n",
    "            epoch_loss = 0\n",
    "            for _ in range(int(mnist.train.num_examples/batch_size)):\n",
    "                epoch_x,epoch_y = mnist.train.next_batch(batch_size)\n",
    "                epoch_x = epoch_x.reshape((batch_size,n_chunks,chunk_size))\n",
    "                \n",
    "                _, c = sess.run([optimizer,cost],feed_dict= {x:epoch_x,y:epoch_y})\n",
    "                epoch_loss += c\n",
    "            print('Epoch',epoch+1,'completed out of', hm_epochs,'loss:',epoch_loss)\n",
    "            \n",
    "            \n",
    "        correct = tf.equal(tf.argmax(prediction,1),tf.argmax(y,1))\n",
    "        accuracy = tf.reduce_mean(tf.cast(correct,'float'))\n",
    "        print('Accuracy:',accuracy.eval({x:mnist.test.images.reshape((-1,n_chunks,chunk_size)),\n",
    "                                         y:mnist.test.labels}))\n",
    "\n",
    "        \n",
    "train_nueral_network(x)"
   ]
  },
  {
   "cell_type": "code",
   "execution_count": null,
   "metadata": {
    "collapsed": true
   },
   "outputs": [],
   "source": []
  }
 ],
 "metadata": {
  "kernelspec": {
   "display_name": "Python 3",
   "language": "python",
   "name": "python3"
  },
  "language_info": {
   "codemirror_mode": {
    "name": "ipython",
    "version": 3
   },
   "file_extension": ".py",
   "mimetype": "text/x-python",
   "name": "python",
   "nbconvert_exporter": "python",
   "pygments_lexer": "ipython3",
   "version": "3.5.3"
  }
 },
 "nbformat": 4,
 "nbformat_minor": 2
}
