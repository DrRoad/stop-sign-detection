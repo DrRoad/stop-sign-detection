{
 "cells": [
  {
   "cell_type": "code",
   "execution_count": null,
   "metadata": {
    "collapsed": true
   },
   "outputs": [],
   "source": [
    "import tflearn\n",
    "from tflearn.layers.conv import conv_2d, max_pool_2d\n",
    "from tflearn.layers.core import input_data, dropout, fully_connected\n",
    "from tflearn.layers.estimator import regression"
   ]
  },
  {
   "cell_type": "code",
   "execution_count": null,
   "metadata": {
    "collapsed": true
   },
   "outputs": [],
   "source": [
    "convnet = input_data(shape = [None, 640, 436, 3], name = 'input')\n",
    "\n",
    "convnet = conv_2D(incoming = convnet, nb_filter = 32, filter_size =  2, activation = 'relu', name = 'layer1')\n",
    "convnet = max_pool_2D(convnet, 2, name = 'maxpool1')\n",
    "\n",
    "convnet = conv_2D(incoming = convnet, nb_filter = 64, filter_size =  2, activation = 'relu', name = 'layer2')\n",
    "convnet = max_pool_2D(convnet, 2, name = 'maxpool2')\n",
    "\n",
    "convnet = conv_2D(incoming = convnet, nb_filter = 128, filter_size =  2, activation = 'relu', name = 'layer3')\n",
    "convnet = max_pool_2D(convnet, 2, name = 'maxpool3')\n",
    "\n",
    "convnet = conv_2D(incoming = convnet, nb_filter = 256, filter_size =  2, activation = 'relu', name = 'layer4')\n",
    "convnet = max_pool_2D(convnet, 2, name = 'maxpool4')\n",
    "\n",
    "convnet = conv_2D(incoming = convnet, nb_filter = 512, filter_size =  2, activation = 'relu', name = 'layer5')\n",
    "convnet = max_pool_2D(convnet, 2, name = 'maxpool5')\n",
    "\n",
    "convnet = fully_connected(convnet, n_units = 1024,activation = 'relu', name = 'fullyconnected1')\n",
    "convnet = dropout(convnet, keep_prob = 0.8, name = 'dropout')\n",
    "\n",
    "convnet = fully_connected(convnet, n_units = 2,activation = 'softmax', name = 'fullyconnected2')\n",
    "convnet = regression(convnet, optimizer = 'adam', loss='categorical_crossentropy', learning_rate=0.001, name = 'regression')"
   ]
  },
  {
   "cell_type": "code",
   "execution_count": null,
   "metadata": {
    "collapsed": true
   },
   "outputs": [],
   "source": [
    "model = tflearn.DNN(convnet, tensorboard_dir = '/tmp/tflearn_logs/')\n",
    "model.fit({'input': X}, {'targets': Y}, n_epoch = 10, snapshot_epoch = True, run_id = 'stopsign', \n",
    "          snapshot_steps = '200', validation_set=({'input': test_x}, {'targets': test_y}))\n",
    "\n",
    "model.save('tflearnsimpleCNN.model')"
   ]
  }
 ],
 "metadata": {
  "kernelspec": {
   "display_name": "Python [conda root]",
   "language": "python",
   "name": "conda-root-py"
  },
  "language_info": {
   "codemirror_mode": {
    "name": "ipython",
    "version": 2
   },
   "file_extension": ".py",
   "mimetype": "text/x-python",
   "name": "python",
   "nbconvert_exporter": "python",
   "pygments_lexer": "ipython2",
   "version": "2.7.12"
  }
 },
 "nbformat": 4,
 "nbformat_minor": 2
}
